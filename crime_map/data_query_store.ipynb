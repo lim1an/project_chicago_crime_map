{
 "cells": [
  {
   "cell_type": "code",
   "execution_count": 1,
   "metadata": {},
   "outputs": [],
   "source": [
    "import zipfile\n",
    "import json\n",
    "import boto3\n",
    "import mysql.connector\n",
    "import requests\n",
    "import dataset\n",
    "import re\n",
    "from datetime import datetime\n",
    "from bs4 import BeautifulSoup\n",
    "from urllib.parse import urljoin, urlparse\n",
    "import csv"
   ]
  },
  {
   "cell_type": "code",
   "execution_count": 2,
   "metadata": {},
   "outputs": [],
   "source": [
    "aws_lambda = boto3.client('lambda')\n",
    "iam_client = boto3.client('iam')\n",
    "role = iam_client.get_role(RoleName='LabRole')"
   ]
  },
  {
   "cell_type": "markdown",
   "metadata": {},
   "source": [
    "### Query data from Chicago Data Portal and put data onto MySQL table on RDS"
   ]
  },
  {
   "cell_type": "markdown",
   "metadata": {},
   "source": [
    "#### Set ups: Create RDS instance, s3 bucket, MySQL table"
   ]
  },
  {
   "cell_type": "code",
   "execution_count": 4,
   "metadata": {},
   "outputs": [],
   "source": [
    "def create_rds_instance(DATABASE_IDENTIFIER, DATABASE_NAME):\n",
    "    \"\"\"\n",
    "    Create a MySQL RDS\n",
    "    Input: DATABASE_INDENTIFIER, DATABASE_NAME\n",
    "    \"\"\"\n",
    "    try:\n",
    "        rds = boto3.client('rds')\n",
    "        response = rds.create_db_instance(\n",
    "            DBInstanceIdentifier=DATABASE_IDENTIFIER,\n",
    "            DBName=DATABASE_NAME,\n",
    "            MasterUsername='username',\n",
    "            MasterUserPassword='password',\n",
    "            DBInstanceClass='db.t3.micro',\n",
    "            Engine='MySQL',\n",
    "            AllocatedStorage=5\n",
    "        )\n",
    "\n",
    "        # Wait until DB is available to continue\n",
    "        waiter = rds.get_waiter('db_instance_available')\n",
    "        waiter.wait(DBInstanceIdentifier=DATABASE_IDENTIFIER)\n",
    "    except:\n",
    "        db = rds.describe_db_instances()['DBInstances'][0]"
   ]
  },
  {
   "cell_type": "code",
   "execution_count": null,
   "metadata": {},
   "outputs": [],
   "source": [
    "# Parameters\n",
    "DATABASE_NAME = 'final_db'\n",
    "DATABASE_IDENTIFIER = 'relational-final-db'\n",
    "USERNAME = 'username'\n",
    "PASSWORD = 'password'"
   ]
  },
  {
   "cell_type": "code",
   "execution_count": 22,
   "metadata": {},
   "outputs": [
    {
     "data": {
      "text/plain": [
       "{'ResponseMetadata': {'RequestId': 'XP0PDM79W9GW7XHJ',\n",
       "  'HostId': '9CSSWEqY5aV/SttuDOCCbo0qpthmVA8GQRGmPaRLUOXD2ShCqF6b3zUDOefUe5ov0umg404CeRc=',\n",
       "  'HTTPStatusCode': 200,\n",
       "  'HTTPHeaders': {'x-amz-id-2': '9CSSWEqY5aV/SttuDOCCbo0qpthmVA8GQRGmPaRLUOXD2ShCqF6b3zUDOefUe5ov0umg404CeRc=',\n",
       "   'x-amz-request-id': 'XP0PDM79W9GW7XHJ',\n",
       "   'date': 'Fri, 24 May 2024 18:55:04 GMT',\n",
       "   'location': '/crime-standard-s3-bucket',\n",
       "   'server': 'AmazonS3',\n",
       "   'content-length': '0'},\n",
       "  'RetryAttempts': 0},\n",
       " 'Location': '/crime-standard-s3-bucket'}"
      ]
     },
     "execution_count": 22,
     "metadata": {},
     "output_type": "execute_result"
    }
   ],
   "source": [
    "# Create S3 Bucket\n",
    "s3_client = boto3.client('s3')\n",
    "s3_client.create_bucket(Bucket='crime-standard-s3-bucket')"
   ]
  },
  {
   "cell_type": "code",
   "execution_count": 12,
   "metadata": {},
   "outputs": [],
   "source": [
    "# Create RDS instance\n",
    "create_rds_instance(DATABASE_IDENTIFIER, DATABASE_NAME)"
   ]
  },
  {
   "cell_type": "code",
   "execution_count": 4,
   "metadata": {},
   "outputs": [
    {
     "name": "stdout",
     "output_type": "stream",
     "text": [
      "relational-final-db is available at relational-final-db.czi23atdudgr.us-east-1.rds.amazonaws.com on Port 3306\n"
     ]
    }
   ],
   "source": [
    "# Connect to the MySQL RDS instance\n",
    "rds = boto3.client('rds')\n",
    "db = rds.describe_db_instances()['DBInstances'][0]\n",
    "ENDPOINT = db['Endpoint']['Address']\n",
    "PORT = db['Endpoint']['Port']\n",
    "DBID = db['DBInstanceIdentifier']\n",
    "print(DBID, \"is available at\", ENDPOINT, \"on Port\", PORT)"
   ]
  },
  {
   "cell_type": "code",
   "execution_count": 27,
   "metadata": {},
   "outputs": [],
   "source": [
    "def create_mysql_crimes(ENDPOINT, PORT, DBID, DATABASE_NAME):\n",
    "    \"\"\"Create MySQL table for crime report data\"\"\"\n",
    "    # Get Name of Security Group\n",
    "    SGNAME = db['VpcSecurityGroups'][0]['VpcSecurityGroupId']\n",
    "\n",
    "    try:\n",
    "        ec2 = boto3.client('ec2')\n",
    "        data = ec2.authorize_security_group_ingress(\n",
    "                GroupId=SGNAME,\n",
    "                IpPermissions=[\n",
    "                    {'IpProtocol': 'tcp',\n",
    "                    'FromPort': PORT,\n",
    "                    'ToPort': PORT,\n",
    "                    'IpRanges': [{'CidrIp': '0.0.0.0/0'}]}\n",
    "                ]\n",
    "        )\n",
    "    except ec2.exceptions.ClientError as e:\n",
    "        if e.response[\"Error\"][\"Code\"] == 'InvalidPermission.Duplicate':\n",
    "            print(\"Permissions already adjusted.\")\n",
    "        else:\n",
    "            print(e)\n",
    "\n",
    "    # Connect to the MySQL RDS instance\n",
    "    conn = mysql.connector.connect(\n",
    "        host=ENDPOINT,\n",
    "        user='username',\n",
    "        password='password',\n",
    "        port=PORT, \n",
    "        database=DATABASE_NAME\n",
    "    )\n",
    "\n",
    "    cursor = conn.cursor()\n",
    "\n",
    "    # Create the table if it doesn't exist\n",
    "    create_crime_table_query = '''\n",
    "    CREATE TABLE IF NOT EXISTS crime_reports (\n",
    "        id VARCHAR(255),\n",
    "        case_number VARCHAR(255),\n",
    "        date DATE,\n",
    "        block VARCHAR(255),\n",
    "        primary_type VARCHAR(255),\n",
    "        district VARCHAR(50),\n",
    "        ward VARCHAR(50),\n",
    "        community_area VARCHAR(50),\n",
    "        year INT,\n",
    "        latitude DECIMAL(9,6),\n",
    "        longitude DECIMAL(9,6),\n",
    "        PRIMARY KEY (id)\n",
    "    )\n",
    "    '''\n",
    "    cursor.execute(create_crime_table_query)\n",
    "    cursor.close()\n",
    "    conn.commit()\n",
    "    conn.close()\n",
    "    \n",
    "create_mysql_crimes(ENDPOINT, PORT, DBID, DATABASE_NAME)"
   ]
  },
  {
   "cell_type": "code",
   "execution_count": 5,
   "metadata": {},
   "outputs": [],
   "source": [
    "def get_table_size(table_name):\n",
    "    \"\"\"Check the size of the MySQL table that speficied by table name\"\"\"\n",
    "    db_url = f'mysql+mysqlconnector://{USERNAME}:{PASSWORD}@{ENDPOINT}:{PORT}/{DATABASE_NAME}'\n",
    "    db = dataset.connect(db_url)\n",
    "    book = db[table_name]\n",
    "    return len(book)"
   ]
  },
  {
   "cell_type": "markdown",
   "metadata": {},
   "source": [
    "#### Query crime report data in a parallelized way"
   ]
  },
  {
   "cell_type": "code",
   "execution_count": 6,
   "metadata": {},
   "outputs": [],
   "source": [
    "def make_def(lambda_arn):\n",
    "    definition = {\n",
    "      \"Comment\": \"My State Machine\",\n",
    "      \"StartAt\": \"Map\",\n",
    "      \"States\": {\n",
    "        \"Map\": {\n",
    "          \"Type\": \"Map\",\n",
    "          \"End\": True,\n",
    "          \"MaxConcurrency\": 10,\n",
    "          \"Iterator\": {\n",
    "            \"StartAt\": \"Lambda Invoke\",\n",
    "            \"States\": {\n",
    "              \"Lambda Invoke\": {\n",
    "                \"Type\": \"Task\",\n",
    "                \"Resource\": \"arn:aws:states:::lambda:invoke\",\n",
    "                \"OutputPath\": \"$.Payload\",\n",
    "                \"Parameters\": {\n",
    "                  \"Payload.$\": \"$\",\n",
    "                  \"FunctionName\": lambda_arn\n",
    "                },\n",
    "                \"Retry\": [\n",
    "                  {\n",
    "                    \"ErrorEquals\": [\n",
    "                      \"Lambda.ServiceException\",\n",
    "                      \"Lambda.AWSLambdaException\",\n",
    "                      \"Lambda.SdkClientException\",\n",
    "                      \"Lambda.TooManyRequestsException\",\n",
    "                      \"States.TaskFailed\",\n",
    "                      \"Lambda.Unknown\"\n",
    "                    ],\n",
    "                    \"IntervalSeconds\": 2,\n",
    "                    \"MaxAttempts\": 6,\n",
    "                    \"BackoffRate\": 2\n",
    "                  }\n",
    "                ],\n",
    "                \"End\": True\n",
    "              }\n",
    "            }\n",
    "          }\n",
    "        }\n",
    "      }\n",
    "    }\n",
    "    return definition"
   ]
  },
  {
   "cell_type": "code",
   "execution_count": null,
   "metadata": {},
   "outputs": [],
   "source": [
    "# Create Lambda Function to query data \n",
    "# and store in MySQL table and s3 bucket at the same time\n",
    "\n",
    "with open('lambda_function_query.zip', 'rb') as f:\n",
    "    # the zipfile only has lambda_function.py in it\n",
    "    lambda_zip = f.read()\n",
    "try:\n",
    "    # If function hasn't yet been created, create it\n",
    "    response = aws_lambda.create_function(\n",
    "        FunctionName='lambda-function-final-query-byday',\n",
    "        Runtime='python3.9',\n",
    "        Role=role['Role']['Arn'],\n",
    "        Handler='lambda_function_query.lambda_handler',\n",
    "        Code=dict(ZipFile=lambda_zip),\n",
    "        Timeout=800\n",
    "    )\n",
    "except aws_lambda.exceptions.ResourceConflictException:\n",
    "    # If function already exists, update it based on zip file contents\n",
    "    response = aws_lambda.update_function_code(\n",
    "    FunctionName='lambda-function-final-query-byday',\n",
    "    ZipFile=lambda_zip,\n",
    "    )\n",
    "\n",
    "response = aws_lambda.put_function_concurrency(\n",
    "    FunctionName='lambda-function-final-query-byday',\n",
    "    ReservedConcurrentExecutions=10)"
   ]
  },
  {
   "cell_type": "code",
   "execution_count": 24,
   "metadata": {},
   "outputs": [],
   "source": [
    "# Create Step function\n",
    "sfn = boto3.client('stepfunctions')\n",
    "lambda_arn = aws_lambda.get_function(FunctionName='lambda-function-final-query-byday')['Configuration']['FunctionArn']\n",
    "sf_def = make_def(lambda_arn)\n",
    "try:\n",
    "    response = sfn.create_state_machine(\n",
    "        name='lambda-function-final-query-byday-step',\n",
    "        definition=json.dumps(sf_def),\n",
    "        roleArn=role['Role']['Arn'],\n",
    "        type='EXPRESS'\n",
    "    )\n",
    "except sfn.exceptions.StateMachineAlreadyExists:\n",
    "    response = sfn.list_state_machines()\n",
    "    state_machine_arn = [sm['stateMachineArn'] \n",
    "                        for sm in response['stateMachines'] \n",
    "                        if sm['name'] == 'lambda-function-final-query-byday-step'][0]\n",
    "    response = sfn.update_state_machine(\n",
    "        stateMachineArn=state_machine_arn,\n",
    "        definition=json.dumps(sf_def),\n",
    "        roleArn=role['Role']['Arn']\n",
    "    )\n",
    "\n",
    "response = sfn.list_state_machines()\n",
    "state_machine_arn = [sm['stateMachineArn'] \n",
    "                    for sm in response['stateMachines'] \n",
    "                    if sm['name'] == 'lambda-function-final-query-byday-step'][0]\n"
   ]
  },
  {
   "cell_type": "code",
   "execution_count": 5,
   "metadata": {},
   "outputs": [],
   "source": [
    "# generate events\n",
    "def generate_where_clause(start_date, end_date):\n",
    "    where_clause = f\"date between '{start_date.strftime('%Y-%m-%dT%H:%M:%S.000')}' and '{end_date.strftime('%Y-%m-%dT%H:%M:%S.000')}'\"\n",
    "    return where_clause\n",
    "\n",
    "m = 12\n",
    "wheres_by_months = [[{'where': generate_where_clause(datetime(2023, m+1, j), datetime(2023, m+1, j+1))} for j in range(1,28)] for m in range(12)]\n",
    "n = 9\n",
    "wheres_batches = [[wheres_by_months[m][i:i + n] for i in range(0, len(wheres_by_months), n)] for m in range(12)]"
   ]
  },
  {
   "cell_type": "code",
   "execution_count": null,
   "metadata": {},
   "outputs": [],
   "source": [
    "# Start Step Function executions for each query params\n",
    "response = sfn.start_sync_execution(\n",
    "    stateMachineArn=state_machine_arn,\n",
    "    name='crimes_9months',\n",
    "    input=json.dumps(wheres_batches[0]) # running from 0 to 11\n",
    ")\n",
    "response = aws_lambda.put_function_concurrency(\n",
    "        FunctionName='crimes_9months',\n",
    "        ReservedConcurrentExecutions=9\n",
    "    )"
   ]
  },
  {
   "cell_type": "code",
   "execution_count": 12,
   "metadata": {},
   "outputs": [
    {
     "data": {
      "text/plain": [
       "261796"
      ]
     },
     "execution_count": 12,
     "metadata": {},
     "output_type": "execute_result"
    }
   ],
   "source": [
    "# Check the number of entries in the mysql table\n",
    "table_name = 'crime_reports'\n",
    "get_table_size(table_name)"
   ]
  }
 ],
 "metadata": {
  "kernelspec": {
   "display_name": "base",
   "language": "python",
   "name": "python3"
  },
  "language_info": {
   "codemirror_mode": {
    "name": "ipython",
    "version": 3
   },
   "file_extension": ".py",
   "mimetype": "text/x-python",
   "name": "python",
   "nbconvert_exporter": "python",
   "pygments_lexer": "ipython3",
   "version": "3.11.4"
  }
 },
 "nbformat": 4,
 "nbformat_minor": 2
}
